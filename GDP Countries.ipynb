{
 "cells": [
  {
   "cell_type": "code",
   "execution_count": 52,
   "metadata": {},
   "outputs": [],
   "source": [
    "import pandas as pd\n",
    "\n",
    "data = pd.read_fwf('https://raw.githubusercontent.com/qureshiaa/GDP-Countries/master/Countries%20with%20GDP.txt')"
   ]
  },
  {
   "cell_type": "code",
   "execution_count": 53,
   "metadata": {},
   "outputs": [
    {
     "data": {
      "text/html": [
       "<div>\n",
       "<style scoped>\n",
       "    .dataframe tbody tr th:only-of-type {\n",
       "        vertical-align: middle;\n",
       "    }\n",
       "\n",
       "    .dataframe tbody tr th {\n",
       "        vertical-align: top;\n",
       "    }\n",
       "\n",
       "    .dataframe thead th {\n",
       "        text-align: right;\n",
       "    }\n",
       "</style>\n",
       "<table border=\"1\" class=\"dataframe\">\n",
       "  <thead>\n",
       "    <tr style=\"text-align: right;\">\n",
       "      <th></th>\n",
       "      <th>List of countries:</th>\n",
       "    </tr>\n",
       "  </thead>\n",
       "  <tbody>\n",
       "    <tr>\n",
       "      <th>0</th>\n",
       "      <td>'Algeria','Angola','Argentina','Australia','Au...</td>\n",
       "    </tr>\n",
       "    <tr>\n",
       "      <th>1</th>\n",
       "      <td>GDP values for each country:</td>\n",
       "    </tr>\n",
       "    <tr>\n",
       "      <th>2</th>\n",
       "      <td>2255.225482,629.9553062,11601.63022,25306.8249...</td>\n",
       "    </tr>\n",
       "  </tbody>\n",
       "</table>\n",
       "</div>"
      ],
      "text/plain": [
       "                                  List of countries:\n",
       "0  'Algeria','Angola','Argentina','Australia','Au...\n",
       "1                       GDP values for each country:\n",
       "2  2255.225482,629.9553062,11601.63022,25306.8249..."
      ]
     },
     "execution_count": 53,
     "metadata": {},
     "output_type": "execute_result"
    }
   ],
   "source": [
    "data"
   ]
  },
  {
   "cell_type": "code",
   "execution_count": 54,
   "metadata": {},
   "outputs": [],
   "source": [
    "data = pd.DataFrame(data)"
   ]
  },
  {
   "cell_type": "code",
   "execution_count": 55,
   "metadata": {},
   "outputs": [],
   "source": [
    "data2 = data.drop(data.index[1])"
   ]
  },
  {
   "cell_type": "code",
   "execution_count": 56,
   "metadata": {},
   "outputs": [
    {
     "data": {
      "text/html": [
       "<div>\n",
       "<style scoped>\n",
       "    .dataframe tbody tr th:only-of-type {\n",
       "        vertical-align: middle;\n",
       "    }\n",
       "\n",
       "    .dataframe tbody tr th {\n",
       "        vertical-align: top;\n",
       "    }\n",
       "\n",
       "    .dataframe thead th {\n",
       "        text-align: right;\n",
       "    }\n",
       "</style>\n",
       "<table border=\"1\" class=\"dataframe\">\n",
       "  <thead>\n",
       "    <tr style=\"text-align: right;\">\n",
       "      <th></th>\n",
       "      <th>List of countries:</th>\n",
       "    </tr>\n",
       "  </thead>\n",
       "  <tbody>\n",
       "    <tr>\n",
       "      <th>0</th>\n",
       "      <td>'Algeria','Angola','Argentina','Australia','Au...</td>\n",
       "    </tr>\n",
       "    <tr>\n",
       "      <th>2</th>\n",
       "      <td>2255.225482,629.9553062,11601.63022,25306.8249...</td>\n",
       "    </tr>\n",
       "  </tbody>\n",
       "</table>\n",
       "</div>"
      ],
      "text/plain": [
       "                                  List of countries:\n",
       "0  'Algeria','Angola','Argentina','Australia','Au...\n",
       "2  2255.225482,629.9553062,11601.63022,25306.8249..."
      ]
     },
     "execution_count": 56,
     "metadata": {},
     "output_type": "execute_result"
    }
   ],
   "source": [
    "data2"
   ]
  },
  {
   "cell_type": "code",
   "execution_count": 57,
   "metadata": {},
   "outputs": [],
   "source": [
    "data3 = data2.T"
   ]
  },
  {
   "cell_type": "code",
   "execution_count": 58,
   "metadata": {},
   "outputs": [
    {
     "name": "stdout",
     "output_type": "stream",
     "text": [
      "<class 'pandas.core.frame.DataFrame'>\n",
      "Index: 1 entries, List of countries: to List of countries:\n",
      "Data columns (total 2 columns):\n",
      " #   Column  Non-Null Count  Dtype \n",
      "---  ------  --------------  ----- \n",
      " 0   0       1 non-null      object\n",
      " 1   2       1 non-null      object\n",
      "dtypes: object(2)\n",
      "memory usage: 104.0+ bytes\n"
     ]
    }
   ],
   "source": [
    "data3.info()"
   ]
  },
  {
   "cell_type": "code",
   "execution_count": 59,
   "metadata": {},
   "outputs": [
    {
     "data": {
      "text/html": [
       "<div>\n",
       "<style scoped>\n",
       "    .dataframe tbody tr th:only-of-type {\n",
       "        vertical-align: middle;\n",
       "    }\n",
       "\n",
       "    .dataframe tbody tr th {\n",
       "        vertical-align: top;\n",
       "    }\n",
       "\n",
       "    .dataframe thead th {\n",
       "        text-align: right;\n",
       "    }\n",
       "</style>\n",
       "<table border=\"1\" class=\"dataframe\">\n",
       "  <thead>\n",
       "    <tr style=\"text-align: right;\">\n",
       "      <th></th>\n",
       "      <th>Countries</th>\n",
       "      <th>GDP Numbers</th>\n",
       "    </tr>\n",
       "  </thead>\n",
       "  <tbody>\n",
       "    <tr>\n",
       "      <th>List of countries:</th>\n",
       "      <td>'Algeria','Angola','Argentina','Australia','Au...</td>\n",
       "      <td>2255.225482,629.9553062,11601.63022,25306.8249...</td>\n",
       "    </tr>\n",
       "  </tbody>\n",
       "</table>\n",
       "</div>"
      ],
      "text/plain": [
       "                                                            Countries  \\\n",
       "List of countries:  'Algeria','Angola','Argentina','Australia','Au...   \n",
       "\n",
       "                                                          GDP Numbers  \n",
       "List of countries:  2255.225482,629.9553062,11601.63022,25306.8249...  "
      ]
     },
     "execution_count": 59,
     "metadata": {},
     "output_type": "execute_result"
    }
   ],
   "source": [
    "data3.columns = ['Countries', 'GDP Numbers']\n",
    "data3"
   ]
  },
  {
   "cell_type": "code",
   "execution_count": 60,
   "metadata": {},
   "outputs": [
    {
     "data": {
      "text/plain": [
       "2255.225482,629.9553062,11601.63022,25306.82494,27266.40335,19466.99052,588.3691778,2890.345675,24733.62696,1445.760002,4803.398244,2618.876037,590.4521124,665.7982328,7122.938458,2639.54156,3362.4656,15378.16704,30860.12808,2579.115607,6525.541272,229.6769525,2242.689259,27570.4852,23016.84778,1334.646773,402.6953275,6047.200797,394.1156638,385.5793827,1414.072488,5745.981529,837.7464011,1206.991065,27715.52837,18937.24998,39578.07441,478.2194906,16684.21278,279.2204061,5345.213415,6288.25324,1908.304416,274.8728621,14646.42094,40034.85063,672.1547506,3359.517402,36152.66676,3054.727742,33529.83052,3825.093781,15428.32098,33630.24604,39170.41371,2699.123242,21058.43643,28272.40661,37691.02733,9581.05659,5671.912202,757.4009286,347.7456605    1\n",
       "Name: GDP Numbers, dtype: int64"
      ]
     },
     "execution_count": 60,
     "metadata": {},
     "output_type": "execute_result"
    }
   ],
   "source": [
    "data3['GDP Numbers'].value_counts()"
   ]
  },
  {
   "cell_type": "code",
   "execution_count": 61,
   "metadata": {},
   "outputs": [],
   "source": [
    "#data3['Countries'] = data3['Countries'].str.replace(\"'\", '')"
   ]
  },
  {
   "cell_type": "code",
   "execution_count": 62,
   "metadata": {},
   "outputs": [
    {
     "data": {
      "text/html": [
       "<div>\n",
       "<style scoped>\n",
       "    .dataframe tbody tr th:only-of-type {\n",
       "        vertical-align: middle;\n",
       "    }\n",
       "\n",
       "    .dataframe tbody tr th {\n",
       "        vertical-align: top;\n",
       "    }\n",
       "\n",
       "    .dataframe thead th {\n",
       "        text-align: right;\n",
       "    }\n",
       "</style>\n",
       "<table border=\"1\" class=\"dataframe\">\n",
       "  <thead>\n",
       "    <tr style=\"text-align: right;\">\n",
       "      <th></th>\n",
       "      <th>Countries</th>\n",
       "      <th>GDP Numbers</th>\n",
       "    </tr>\n",
       "  </thead>\n",
       "  <tbody>\n",
       "    <tr>\n",
       "      <th>List of countries:</th>\n",
       "      <td>'Algeria','Angola','Argentina','Australia','Au...</td>\n",
       "      <td>2255.225482,629.9553062,11601.63022,25306.8249...</td>\n",
       "    </tr>\n",
       "  </tbody>\n",
       "</table>\n",
       "</div>"
      ],
      "text/plain": [
       "                                                            Countries  \\\n",
       "List of countries:  'Algeria','Angola','Argentina','Australia','Au...   \n",
       "\n",
       "                                                          GDP Numbers  \n",
       "List of countries:  2255.225482,629.9553062,11601.63022,25306.8249...  "
      ]
     },
     "execution_count": 62,
     "metadata": {},
     "output_type": "execute_result"
    }
   ],
   "source": [
    "data3"
   ]
  },
  {
   "cell_type": "code",
   "execution_count": 63,
   "metadata": {},
   "outputs": [],
   "source": [
    "import numpy as np\n",
    "\n",
    "countries = np.array(['Algeria','Angola','Argentina','Australia','Austria','Bahamas','Bangladesh',\n",
    "                     'Belarus','Belgium','Bhutan','Brazil','Bulgaria','Cambodia','Cameroon','Chile','China',\n",
    "                     'Colombia','Cyprus','Denmark','El Salvador','Estonia','Ethiopia','Fiji','Finland','France',\n",
    "                     'Georgia','Ghana','Grenada','Guinea','Haiti','Honduras','Hungary','India','Indonesia','Ireland',\n",
    "                     'Italy','Japan','Kenya', 'South Korea','Liberia','Malaysia','Mexico', 'Morocco','Nepal','New Zealand',\n",
    "                     'Norway','Pakistan', 'Peru','Qatar','Russia','Singapore','South Africa','Spain','Sweden',\n",
    "                     'Switzerland','Thailand', 'United Arab Emirates',\n",
    "                     'United Kingdom','United States','Uruguay','Venezuela','Vietnam','Zimbabwe'])\n",
    "\n",
    "gdp_numbers = np.array([2255.225482,629.9553062,11601.63022,25306.82494,27266.40335,19466.99052,\n",
    "                        588.3691778,2890.345675,24733.62696,1445.760002,4803.398244,2618.876037,\n",
    "                        590.4521124,665.7982328,7122.938458,2639.54156,3362.4656,15378.16704,30860.12808,\n",
    "                        2579.115607,6525.541272,229.6769525,2242.689259,27570.4852,23016.84778,1334.646773,\n",
    "                        402.6953275,6047.200797,394.1156638,385.5793827,1414.072488,5745.981529,837.7464011,\n",
    "                        1206.991065,27715.52837,18937.24998,39578.07441,478.2194906,16684.21278,279.2204061,\n",
    "                        5345.213415,6288.25324,1908.304416,274.8728621,14646.42094,40034.85063,672.1547506,\n",
    "                        3359.517402,36152.66676,3054.727742,33529.83052,3825.093781,15428.32098,33630.24604,\n",
    "                        39170.41371,2699.123242,21058.43643,28272.40661,37691.02733,9581.05659,5671.912202,\n",
    "                        757.4009286,347.7456605])"
   ]
  },
  {
   "cell_type": "code",
   "execution_count": 64,
   "metadata": {},
   "outputs": [
    {
     "data": {
      "text/plain": [
       "45"
      ]
     },
     "execution_count": 64,
     "metadata": {},
     "output_type": "execute_result"
    }
   ],
   "source": [
    "max_gdp = gdp_numbers.argmax()\n",
    "max_gdp"
   ]
  },
  {
   "cell_type": "code",
   "execution_count": 65,
   "metadata": {},
   "outputs": [
    {
     "data": {
      "text/plain": [
       "'Norway'"
      ]
     },
     "execution_count": 65,
     "metadata": {},
     "output_type": "execute_result"
    }
   ],
   "source": [
    "country_with_max_gdp = countries[max_gdp]\n",
    "country_with_max_gdp"
   ]
  },
  {
   "cell_type": "code",
   "execution_count": 66,
   "metadata": {},
   "outputs": [
    {
     "data": {
      "text/plain": [
       "21"
      ]
     },
     "execution_count": 66,
     "metadata": {},
     "output_type": "execute_result"
    }
   ],
   "source": [
    "min_gdp = gdp_numbers.argmin()\n",
    "min_gdp"
   ]
  },
  {
   "cell_type": "code",
   "execution_count": 67,
   "metadata": {},
   "outputs": [
    {
     "data": {
      "text/plain": [
       "'Ethiopia'"
      ]
     },
     "execution_count": 67,
     "metadata": {},
     "output_type": "execute_result"
    }
   ],
   "source": [
    "country_with_min_gdp = countries[min_gdp]\n",
    "country_with_min_gdp"
   ]
  },
  {
   "cell_type": "code",
   "execution_count": 68,
   "metadata": {},
   "outputs": [
    {
     "data": {
      "text/plain": [
       "11289.409271639683"
      ]
     },
     "execution_count": 68,
     "metadata": {},
     "output_type": "execute_result"
    }
   ],
   "source": [
    "mean_gdp_numbers = gdp_numbers.mean()\n",
    "mean_gdp_numbers"
   ]
  },
  {
   "cell_type": "code",
   "execution_count": 69,
   "metadata": {},
   "outputs": [
    {
     "data": {
      "text/plain": [
       "711232.7841133"
      ]
     },
     "execution_count": 69,
     "metadata": {},
     "output_type": "execute_result"
    }
   ],
   "source": [
    "sum_gdp_numbers = gdp_numbers.sum()\n",
    "sum_gdp_numbers"
   ]
  },
  {
   "cell_type": "code",
   "execution_count": 70,
   "metadata": {},
   "outputs": [
    {
     "data": {
      "text/plain": [
       "12743.828910617945"
      ]
     },
     "execution_count": 70,
     "metadata": {},
     "output_type": "execute_result"
    }
   ],
   "source": [
    "std_gdp_numbers = gdp_numbers.std()\n",
    "std_gdp_numbers"
   ]
  },
  {
   "cell_type": "code",
   "execution_count": 71,
   "metadata": {},
   "outputs": [
    {
     "data": {
      "text/plain": [
       "array(['Algeria', 'Angola', 'Argentina', 'Australia', 'Austria',\n",
       "       'Bahamas', 'Bangladesh', 'Belarus', 'Belgium', 'Bhutan', 'Brazil',\n",
       "       'Bulgaria', 'Cambodia', 'Cameroon', 'Chile', 'China', 'Colombia',\n",
       "       'Cyprus', 'Denmark', 'El Salvador', 'Estonia', 'Ethiopia', 'Fiji',\n",
       "       'Finland', 'France', 'Georgia', 'Ghana', 'Grenada', 'Guinea',\n",
       "       'Haiti', 'Honduras', 'Hungary', 'India', 'Indonesia', 'Ireland',\n",
       "       'Italy', 'Japan', 'Kenya', 'South Korea', 'Liberia', 'Malaysia',\n",
       "       'Mexico', 'Morocco', 'Nepal', 'New Zealand', 'Norway', 'Pakistan',\n",
       "       'Peru', 'Qatar', 'Russia', 'Singapore', 'South Africa', 'Spain',\n",
       "       'Sweden', 'Switzerland', 'Thailand', 'United Arab Emirates',\n",
       "       'United Kingdom', 'United States', 'Uruguay', 'Venezuela',\n",
       "       'Vietnam', 'Zimbabwe', '2255.225482', '629.9553062', '11601.63022',\n",
       "       '25306.82494', '27266.40335', '19466.99052', '588.3691778',\n",
       "       '2890.345675', '24733.62696', '1445.760002', '4803.398244',\n",
       "       '2618.876037', '590.4521124', '665.7982328', '7122.938458',\n",
       "       '2639.54156', '3362.4656', '15378.16704', '30860.12808',\n",
       "       '2579.115607', '6525.541272', '229.6769525', '2242.689259',\n",
       "       '27570.4852', '23016.84778', '1334.646773', '402.6953275',\n",
       "       '6047.200797', '394.1156638', '385.5793827', '1414.072488',\n",
       "       '5745.981529', '837.7464011', '1206.991065', '27715.52837',\n",
       "       '18937.24998', '39578.07441', '478.2194906', '16684.21278',\n",
       "       '279.2204061', '5345.213415', '6288.25324', '1908.304416',\n",
       "       '274.8728621', '14646.42094', '40034.85063', '672.1547506',\n",
       "       '3359.517402', '36152.66676', '3054.727742', '33529.83052',\n",
       "       '3825.093781', '15428.32098', '33630.24604', '39170.41371',\n",
       "       '2699.123242', '21058.43643', '28272.40661', '37691.02733',\n",
       "       '9581.05659', '5671.912202', '757.4009286', '347.7456605'],\n",
       "      dtype='<U32')"
      ]
     },
     "execution_count": 71,
     "metadata": {},
     "output_type": "execute_result"
    }
   ],
   "source": [
    "together = np.concatenate([countries,gdp_numbers])\n",
    "together"
   ]
  },
  {
   "cell_type": "code",
   "execution_count": 72,
   "metadata": {},
   "outputs": [
    {
     "name": "stdout",
     "output_type": "stream",
     "text": [
      "2255.225482\n",
      "629.9553062\n",
      "11601.63022\n",
      "25306.82494\n",
      "27266.40335\n",
      "19466.99052\n",
      "588.3691778\n",
      "2890.345675\n",
      "24733.62696\n",
      "1445.760002\n",
      "4803.398244\n",
      "2618.876037\n",
      "590.4521124\n",
      "665.7982328\n",
      "7122.938458\n",
      "2639.54156\n",
      "3362.4656\n",
      "15378.16704\n",
      "30860.12808\n",
      "2579.115607\n",
      "6525.541272\n",
      "229.6769525\n",
      "2242.689259\n",
      "27570.4852\n",
      "23016.84778\n",
      "1334.646773\n",
      "402.6953275\n",
      "6047.200797\n",
      "394.1156638\n",
      "385.5793827\n",
      "1414.072488\n",
      "5745.981529\n",
      "837.7464011\n",
      "1206.991065\n",
      "27715.52837\n",
      "18937.24998\n",
      "39578.07441\n",
      "478.2194906\n",
      "16684.21278\n",
      "279.2204061\n",
      "5345.213415\n",
      "6288.25324\n",
      "1908.304416\n",
      "274.8728621\n",
      "14646.42094\n",
      "40034.85063\n",
      "672.1547506\n",
      "3359.517402\n",
      "36152.66676\n",
      "3054.727742\n",
      "33529.83052\n",
      "3825.093781\n",
      "15428.32098\n",
      "33630.24604\n",
      "39170.41371\n",
      "2699.123242\n",
      "21058.43643\n",
      "28272.40661\n",
      "37691.02733\n",
      "9581.05659\n",
      "5671.912202\n",
      "757.4009286\n",
      "347.7456605\n"
     ]
    }
   ],
   "source": [
    "for numbers in gdp_numbers:\n",
    "    gdp_numbers_new = numbers\n",
    "    print (gdp_numbers_new)\n"
   ]
  },
  {
   "cell_type": "code",
   "execution_count": 73,
   "metadata": {},
   "outputs": [
    {
     "name": "stdout",
     "output_type": "stream",
     "text": [
      "1 Algeria is 2255.225482\n",
      "2 Angola is 629.9553062\n",
      "3 Argentina is 11601.63022\n",
      "4 Australia is 25306.82494\n",
      "5 Austria is 27266.40335\n",
      "6 Bahamas is 19466.99052\n",
      "7 Bangladesh is 588.3691778\n",
      "8 Belarus is 2890.345675\n",
      "9 Belgium is 24733.62696\n",
      "10 Bhutan is 1445.760002\n",
      "11 Brazil is 4803.398244\n",
      "12 Bulgaria is 2618.876037\n",
      "13 Cambodia is 590.4521124\n",
      "14 Cameroon is 665.7982328\n",
      "15 Chile is 7122.938458\n",
      "16 China is 2639.54156\n",
      "17 Colombia is 3362.4656\n",
      "18 Cyprus is 15378.16704\n",
      "19 Denmark is 30860.12808\n",
      "20 El Salvador is 2579.115607\n",
      "21 Estonia is 6525.541272\n",
      "22 Ethiopia is 229.6769525\n",
      "23 Fiji is 2242.689259\n",
      "24 Finland is 27570.4852\n",
      "25 France is 23016.84778\n",
      "26 Georgia is 1334.646773\n",
      "27 Ghana is 402.6953275\n",
      "28 Grenada is 6047.200797\n",
      "29 Guinea is 394.1156638\n",
      "30 Haiti is 385.5793827\n",
      "31 Honduras is 1414.072488\n",
      "32 Hungary is 5745.981529\n",
      "33 India is 837.7464011\n",
      "34 Indonesia is 1206.991065\n",
      "35 Ireland is 27715.52837\n",
      "36 Italy is 18937.24998\n",
      "37 Japan is 39578.07441\n",
      "38 Kenya is 478.2194906\n",
      "39 South Korea is 16684.21278\n",
      "40 Liberia is 279.2204061\n",
      "41 Malaysia is 5345.213415\n",
      "42 Mexico is 6288.25324\n",
      "43 Morocco is 1908.304416\n",
      "44 Nepal is 274.8728621\n",
      "45 New Zealand is 14646.42094\n",
      "46 Norway is 40034.85063\n",
      "47 Pakistan is 672.1547506\n",
      "48 Peru is 3359.517402\n",
      "49 Qatar is 36152.66676\n",
      "50 Russia is 3054.727742\n",
      "51 Singapore is 33529.83052\n",
      "52 South Africa is 3825.093781\n",
      "53 Spain is 15428.32098\n",
      "54 Sweden is 33630.24604\n",
      "55 Switzerland is 39170.41371\n",
      "56 Thailand is 2699.123242\n",
      "57 United Arab Emirates is 21058.43643\n",
      "58 United Kingdom is 28272.40661\n",
      "59 United States is 37691.02733\n",
      "60 Uruguay is 9581.05659\n",
      "61 Venezuela is 5671.912202\n",
      "62 Vietnam is 757.4009286\n",
      "63 Zimbabwe is 347.7456605\n"
     ]
    }
   ],
   "source": [
    "for i in range(len(countries)):\n",
    "    country = countries[i]\n",
    "    country_gdp = gdp_numbers[i]\n",
    "    print(i + 1,country,'is',country_gdp)"
   ]
  }
 ],
 "metadata": {
  "kernelspec": {
   "display_name": "Python 3",
   "language": "python",
   "name": "python3"
  },
  "language_info": {
   "codemirror_mode": {
    "name": "ipython",
    "version": 3
   },
   "file_extension": ".py",
   "mimetype": "text/x-python",
   "name": "python",
   "nbconvert_exporter": "python",
   "pygments_lexer": "ipython3",
   "version": "3.7.6"
  }
 },
 "nbformat": 4,
 "nbformat_minor": 4
}
